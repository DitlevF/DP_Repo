{
 "cells": [
  {
   "cell_type": "markdown",
   "metadata": {},
   "source": [
    "# Exercise 1"
   ]
  },
  {
   "cell_type": "code",
   "execution_count": 1,
   "metadata": {},
   "outputs": [],
   "source": [
    "import numpy as np\n",
    "import matplotlib.pyplot as plt"
   ]
  },
  {
   "cell_type": "markdown",
   "metadata": {},
   "source": [
    "## 1.4"
   ]
  },
  {
   "cell_type": "code",
   "execution_count": 2,
   "metadata": {},
   "outputs": [],
   "source": [
    "# 1. Set up\n",
    "class struct():\n",
    "    pass"
   ]
  },
  {
   "cell_type": "markdown",
   "metadata": {},
   "source": [
    "# T = 2"
   ]
  },
  {
   "cell_type": "code",
   "execution_count": 3,
   "metadata": {},
   "outputs": [],
   "source": [
    "# 1. Set up\n",
    "par = struct()\n",
    "par.alpha = 0.5\n",
    "par.beta = 0.9\n",
    "par.T = 2\n",
    "\n",
    "# Utility function\n",
    "par.u = lambda x, par: x**par.alpha\n",
    "# 2. State\n",
    "par.M = 5"
   ]
  },
  {
   "cell_type": "code",
   "execution_count": 4,
   "metadata": {},
   "outputs": [
    {
     "name": "stdout",
     "output_type": "stream",
     "text": [
      "Optimal consumption is [3, 2] with value function 3.004843013704663\n"
     ]
    }
   ],
   "source": [
    "# 3. Solve for T = 2\n",
    "Vstar = -np.inf\n",
    "Cstar = [0 for x in range(par.T)]\n",
    "\n",
    "for C1 in range(0,par.M + 1):       \n",
    "        #a. Evaluate\n",
    "        V = par.u(C1, par) + par.beta * par.u(par.M - C1, par)\n",
    "        \n",
    "                #b. Save max\n",
    "        if V > Vstar:\n",
    "            Vstar = V\n",
    "            Cstar[0] = C1\n",
    "            \n",
    "            Cstar[1] = par.M - C1\n",
    "            \n",
    "        \n",
    "print('Optimal consumption is',Cstar, 'with value function', Vstar)\n"
   ]
  },
  {
   "cell_type": "markdown",
   "metadata": {},
   "source": [
    "# T = 3"
   ]
  },
  {
   "cell_type": "code",
   "execution_count": 5,
   "metadata": {},
   "outputs": [],
   "source": [
    "# 1. Set up\n",
    "par = struct()\n",
    "par.alpha = 0.5\n",
    "par.beta = 0.9\n",
    "par.T = 3\n",
    "# Utility function\n",
    "par.u = lambda x, par: x**par.alpha\n",
    "# 2. State\n",
    "par.M = 5"
   ]
  },
  {
   "cell_type": "code",
   "execution_count": 6,
   "metadata": {},
   "outputs": [
    {
     "name": "stdout",
     "output_type": "stream",
     "text": [
      "Optimal consumption is [2, 2, 1] with value function 3.4970057685088807\n"
     ]
    }
   ],
   "source": [
    "# Solve\n",
    "Vstar = -np.inf\n",
    "Cstar = [0 for x in range(par.T)]\n",
    "\n",
    "for C2 in range(0,par.M + 1):\n",
    "    for C1 in range(0, par.M - C2):\n",
    "        \n",
    "        # a. Evaluate\n",
    "        V = par.u(C2, par) + par.beta * par.u(C1,par) + (par.beta)**2 * par.u(par.M-C2-C1,par)\n",
    "        \n",
    "        # b. Save max\n",
    "        if V > Vstar:\n",
    "            Vstar = V\n",
    "            Cstar[0] = C1\n",
    "            Cstar[1] = C2\n",
    "            Cstar[2] = par.M - C1 - C2\n",
    "            \n",
    "\n",
    "print('Optimal consumption is',Cstar, 'with value function', Vstar)"
   ]
  },
  {
   "cell_type": "markdown",
   "metadata": {},
   "source": [
    "# Backwards Induction"
   ]
  },
  {
   "cell_type": "code",
   "execution_count": 7,
   "metadata": {},
   "outputs": [],
   "source": [
    "# 1. Set up\n",
    "par = struct()\n",
    "par.alpha = 0.5\n",
    "par.beta = 0.70\n",
    "par.T = 10\n",
    "# Utility function\n",
    "par.u = lambda x, par: x**par.alpha\n",
    "# 2. State\n",
    "par.M = 5"
   ]
  },
  {
   "cell_type": "code",
   "execution_count": 8,
   "metadata": {},
   "outputs": [],
   "source": [
    "# Solve\n",
    "Cstar, Vstar = dict(), dict()\n",
    "\n",
    "# Initialize end period\n",
    "Cstar[par.T] = np.arange(par.M+1)\n",
    "Vstar[par.T] = par.u(Cstar[par.T], par)\n",
    "\n",
    "for t in reversed(range(1,par.T)):\n",
    "    Cstar[t] = np.zeros(par.M+1)\n",
    "    Vstar[t] = np.zeros(par.M+1)\n",
    "    \n",
    "    for m in range(0, par.M+1): # 0 to 5\n",
    "        Vstar[t][m] = -np.inf \n",
    "        \n",
    "        for C in range(m+1): # 0 to m\n",
    "            V = par.u(C, par) + par.beta * Vstar[t+1][m-C]\n",
    "            if V > Vstar[t][m]:\n",
    "                Vstar[t][m] = V\n",
    "                Cstar[t][m] = C "
   ]
  },
  {
   "cell_type": "markdown",
   "metadata": {},
   "source": [
    "# Simulate $C_1,... C_{10}$ with $M = 5$ and $T = 10$"
   ]
  },
  {
   "cell_type": "code",
   "execution_count": 9,
   "metadata": {},
   "outputs": [],
   "source": [
    "C = np.zeros(par.T)\n",
    "C[0] = Cstar[1][par.M]\n",
    "\n",
    "for i in range(1,par.T):\n",
    "    tot_C = sum(C)\n",
    "    C[i] = Cstar[i+1][int(par.M - tot_C)]"
   ]
  },
  {
   "cell_type": "code",
   "execution_count": 10,
   "metadata": {},
   "outputs": [
    {
     "data": {
      "image/png": "[encoded data removed]",
      "text/plain": [
       "<matplotlib.figure.Figure at 0x1119a70f0>"
      ]
     },
     "metadata": {},
     "output_type": "display_data"
    }
   ],
   "source": [
    "plt.figure()\n",
    "x = np.linspace(1,10,10)\n",
    "plt.plot(x,C)\n",
    "plt.title('Consumption Path'); plt.ylabel('Consumption'); plt.xlabel('Time'); plt.xticks(range(1,11))\n",
    "plt.show()"
   ]
  },
  {
   "cell_type": "markdown",
   "metadata": {},
   "source": [
    "# Exercise 2"
   ]
  },
  {
   "cell_type": "markdown",
   "metadata": {},
   "source": [
    "## 2.1"
   ]
  },
  {
   "cell_type": "code",
   "execution_count": 11,
   "metadata": {},
   "outputs": [],
   "source": [
    "# 1. Set up\n",
    "par = struct()\n",
    "par.alpha = 0.5\n",
    "par.beta = 0.9\n",
    "par.pi = 0.5\n",
    "par.T = 10\n",
    "\n",
    "# Utility function\n",
    "par.u = lambda x, par: x**par.alpha\n",
    "# 2. State\n",
    "par.M = 10"
   ]
  },
  {
   "cell_type": "code",
   "execution_count": 12,
   "metadata": {},
   "outputs": [],
   "source": [
    "# Input to model\n",
    "Cstar, Vstar = dict(), dict()\n",
    "\n",
    "# Initialize end period\n",
    "Cstar[par.T] = np.arange(par.M + par.T + 1)\n",
    "Vstar[par.T] = par.u(Cstar[par.T], par)\n",
    "\n",
    "for t in reversed(range(1,par.T)):\n",
    "    Cstar[t] = np.zeros(par.M + par.T +1)\n",
    "    Vstar[t] = np.zeros(par.M + par.T +1)\n",
    "    \n",
    "    for m in range(1,par.M+t+1): # We can have M+t ressources in period t\n",
    "        Vstar[t][m] = -np.inf\n",
    "        for C in range(0,m):\n",
    "            if t == par.T:\n",
    "                V = par.u(C, par) # Consume everything - really not necessary, as we have already initialized above\n",
    "            else:\n",
    "                EV = (1-par.pi) * Vstar[t+1][m-C] + par.pi * Vstar[t+1][m-C+1]\n",
    "                V = par.u(C, par) + par.beta * EV\n",
    "                \n",
    "            if V > Vstar[t][m]:\n",
    "                Vstar[t][m] = V\n",
    "                Cstar[t][m] = C \n",
    "                 "
   ]
  },
  {
   "cell_type": "markdown",
   "metadata": {},
   "source": [
    "## 2.2. Plot first period consumption"
   ]
  },
  {
   "cell_type": "code",
   "execution_count": 13,
   "metadata": {},
   "outputs": [
    {
     "data": {
      "image/png": "[encoded data removed]",
      "text/plain": [
       "<matplotlib.figure.Figure at 0x111c800f0>"
      ]
     },
     "metadata": {},
     "output_type": "display_data"
    }
   ],
   "source": [
    "Cstar1 = Cstar[1][0:12]\n",
    "#Vstar1 = Vstar[1][0:12]\n",
    "\n",
    "plt.figure()\n",
    "x = np.linspace(1,12,12)\n",
    "x = x - 1\n",
    "plt.plot(x,Cstar1)\n",
    "#plt.plot(x,Vstar1)\n",
    "plt.title('Consumption Path in Period 1'); plt.ylabel('Consumption'); plt.xlabel('M'); plt.xticks(range(0,12))\n",
    "plt.show()"
   ]
  },
  {
   "cell_type": "markdown",
   "metadata": {},
   "source": [
    "## 2.3: Vary $\\pi$ and check that both C and V move weakly upwards in it"
   ]
  },
  {
   "cell_type": "markdown",
   "metadata": {},
   "source": [
    "$\\pi = 0.5$"
   ]
  },
  {
   "cell_type": "code",
   "execution_count": 14,
   "metadata": {},
   "outputs": [
    {
     "data": {
      "image/png": "[encoded data removed]",
      "text/plain": [
       "<matplotlib.figure.Figure at 0x111d52400>"
      ]
     },
     "metadata": {},
     "output_type": "display_data"
    }
   ],
   "source": [
    "par.pi = 0.5\n",
    "\n",
    "# Input to model\n",
    "Cstar, Vstar = dict(), dict()\n",
    "\n",
    "# Initialize end period\n",
    "Cstar[par.T] = np.arange(par.M + par.T + 1)\n",
    "Vstar[par.T] = par.u(Cstar[par.T], par)\n",
    "\n",
    "for t in reversed(range(1,par.T)):\n",
    "    Cstar[t] = np.zeros(par.M + par.T +1)\n",
    "    Vstar[t] = np.zeros(par.M + par.T +1)\n",
    "    \n",
    "    for m in range(1,par.M+t+1): # We can have M+t ressources in period t\n",
    "        Vstar[t][m] = -np.inf\n",
    "        for C in range(0,m):\n",
    "            if t == par.T:\n",
    "                V = par.u(C, par) # Consume everything - really not necessary, as we have already initialized above\n",
    "            else:\n",
    "                EV = (1-par.pi) * Vstar[t+1][m-C] + par.pi * Vstar[t+1][m-C+1]\n",
    "                V = par.u(C, par) + par.beta * EV\n",
    "                \n",
    "            if V > Vstar[t][m]:\n",
    "                Vstar[t][m] = V\n",
    "                Cstar[t][m] = C \n",
    "                \n",
    "Cstar1 = Cstar[1][0:12]\n",
    "#Vstar1 = Vstar[1][0:12]\n",
    "\n",
    "plt.figure()\n",
    "x = np.linspace(1,12,12)\n",
    "x = x - 1\n",
    "plt.plot(x,Cstar1)\n",
    "#plt.plot(x,Vstar1)\n",
    "plt.title('Consumption Path in Period 1'); plt.ylabel('Consumption'); plt.xlabel('M'); plt.xticks(range(0,12))\n",
    "plt.show()\n"
   ]
  },
  {
   "cell_type": "markdown",
   "metadata": {},
   "source": [
    "$\\pi = 0.1$"
   ]
  },
  {
   "cell_type": "code",
   "execution_count": 15,
   "metadata": {},
   "outputs": [
    {
     "data": {
      "image/png": "[encoded data removed]",
      "text/plain": [
       "<matplotlib.figure.Figure at 0x111d4e390>"
      ]
     },
     "metadata": {},
     "output_type": "display_data"
    }
   ],
   "source": [
    "par.pi = 0.1\n",
    "\n",
    "# Input to model\n",
    "Cstar, Vstar = dict(), dict()\n",
    "\n",
    "# Initialize end period\n",
    "Cstar[par.T] = np.arange(par.M + par.T + 1)\n",
    "Vstar[par.T] = par.u(Cstar[par.T], par)\n",
    "\n",
    "for t in reversed(range(1,par.T)): # Notice, we are iterating from T-1 to 1 with T given above.\n",
    "    Cstar[t] = np.zeros(par.M + par.T +1)\n",
    "    Vstar[t] = np.zeros(par.M + par.T +1)\n",
    "    \n",
    "    for m in range(1,par.M+t+1): # We can have M+t ressources in period t\n",
    "        Vstar[t][m] = -np.inf\n",
    "        for C in range(0,m):\n",
    "            if t == par.T:\n",
    "                V = par.u(C, par) # Consume everything - really not necessary, as we have already initialized above\n",
    "            else:\n",
    "                EV = (1-par.pi) * Vstar[t+1][m-C] + par.pi * Vstar[t+1][m-C+1]\n",
    "                V = par.u(C, par) + par.beta * EV\n",
    "                \n",
    "            if V > Vstar[t][m]:\n",
    "                Vstar[t][m] = V\n",
    "                Cstar[t][m] = C \n",
    "                \n",
    "Cstar1 = Cstar[1][0:12]\n",
    "#Vstar1 = Vstar[1][0:12]\n",
    "\n",
    "plt.figure()\n",
    "x = np.linspace(1,12,12)\n",
    "x = x - 1\n",
    "plt.plot(x,Cstar1)\n",
    "#plt.plot(x,Vstar1)\n",
    "plt.title('Consumption Path in Period 1'); plt.ylabel('Consumption'); plt.xlabel('M'); plt.xticks(range(0,12))\n",
    "plt.show()\n"
   ]
  },
  {
   "cell_type": "markdown",
   "metadata": {},
   "source": [
    "$\\pi = 0.9$"
   ]
  },
  {
   "cell_type": "code",
   "execution_count": 16,
   "metadata": {},
   "outputs": [
    {
     "data": {
      "image/png": "[encoded data removed]",
      "text/plain": [
       "<matplotlib.figure.Figure at 0x111e205c0>"
      ]
     },
     "metadata": {},
     "output_type": "display_data"
    }
   ],
   "source": [
    "par.pi = 0.9\n",
    "\n",
    "# Input to model\n",
    "Cstar, Vstar = dict(), dict()\n",
    "\n",
    "# Initialize end period\n",
    "Cstar[par.T] = np.arange(par.M + par.T + 1)\n",
    "Vstar[par.T] = par.u(Cstar[par.T], par)\n",
    "\n",
    "for t in reversed(range(1,par.T)):\n",
    "    Cstar[t] = np.zeros(par.M + par.T +1)\n",
    "    Vstar[t] = np.zeros(par.M + par.T +1)\n",
    "    \n",
    "    for m in range(1,par.M+t+1): # We can have M+t ressources in period t\n",
    "        Vstar[t][m] = -np.inf\n",
    "        for C in range(0,m):\n",
    "            if t == par.T:\n",
    "                V = par.u(C, par) # Consume everything - really not necessary, as we have already initialized above\n",
    "            else:\n",
    "                EV = (1-par.pi) * Vstar[t+1][m-C] + par.pi * Vstar[t+1][m-C+1]\n",
    "                V = par.u(C, par) + par.beta * EV\n",
    "                \n",
    "            if V > Vstar[t][m]:\n",
    "                Vstar[t][m] = V\n",
    "                Cstar[t][m] = C\n",
    "\n",
    "Cstar1 = Cstar[1][0:12]\n",
    "#Vstar1 = Vstar[1][0:12]\n",
    "\n",
    "plt.figure()\n",
    "x = np.linspace(1,12,12)\n",
    "x = x - 1\n",
    "plt.plot(x,Cstar1)\n",
    "#plt.plot(x,Vstar1)\n",
    "plt.title('Consumption Path in Period 1'); plt.ylabel('Consumption'); plt.xlabel('M'); plt.xticks(range(0,12))\n",
    "plt.show()\n"
   ]
  },
  {
   "cell_type": "markdown",
   "metadata": {},
   "source": [
    "# Exercise 3"
   ]
  },
  {
   "cell_type": "markdown",
   "metadata": {},
   "source": [
    "## 3.1"
   ]
  },
  {
   "cell_type": "code",
   "execution_count": 17,
   "metadata": {},
   "outputs": [],
   "source": [
    "from scipy import interpolate"
   ]
  },
  {
   "cell_type": "code",
   "execution_count": 18,
   "metadata": {},
   "outputs": [],
   "source": [
    "def f(x):\n",
    "    func = (x-3)**2\n",
    "    return(func)"
   ]
  },
  {
   "cell_type": "code",
   "execution_count": 19,
   "metadata": {},
   "outputs": [],
   "source": [
    "x_true = np.linspace(0,6,100)\n",
    "f_true = f(x_true)\n",
    "x_known = np.array([1,2,3,4,5])\n",
    "f_known = f(x_known)"
   ]
  },
  {
   "cell_type": "code",
   "execution_count": 20,
   "metadata": {},
   "outputs": [
    {
     "data": {
      "image/png": "[encoded data removed]",
      "text/plain": [
       "<matplotlib.figure.Figure at 0xb13154fd0>"
      ]
     },
     "metadata": {},
     "output_type": "display_data"
    }
   ],
   "source": [
    "f_int_prel = interpolate.interp1d(x_known, f_known, kind='linear', fill_value = \"extrapolate\")\n",
    "f_int = f_int_prel(x_true)\n",
    "\n",
    "plt.plot(x_true,f_true)\n",
    "plt.plot(x_true, f_int)\n",
    "plt.show()"
   ]
  },
  {
   "cell_type": "markdown",
   "metadata": {},
   "source": [
    "## 3.2"
   ]
  },
  {
   "cell_type": "code",
   "execution_count": 183,
   "metadata": {},
   "outputs": [],
   "source": [
    "# 1. Set up\n",
    "par = struct()\n",
    "par.alpha = 0.5\n",
    "par.beta = 0.5\n",
    "par.pi = 0.5\n",
    "par.T = 10\n",
    "\n",
    "# Utility function\n",
    "par.u = lambda x, par: x**par.alpha\n",
    "# 2. State\n",
    "par.M = 10\n",
    "\n",
    "# 3. Grid\n",
    "NC = NM = 50\n",
    "grid_C = np.linspace(0,1,NC)"
   ]
  },
  {
   "cell_type": "code",
   "execution_count": 184,
   "metadata": {},
   "outputs": [],
   "source": [
    "# Input to model\n",
    "Cstar, Vstar, grid_M = dict(), dict(), dict() # Notice, grid is now also a dictionary, where the grid changes with t\n",
    "\n",
    "# Initialize end period\n",
    "Cstar[par.T] = np.linspace(0,par.M + par.T, NM) # Notice change\n",
    "Vstar[par.T] = par.u(Cstar[par.T], par)    "
   ]
  },
  {
   "cell_type": "code",
   "execution_count": 207,
   "metadata": {},
   "outputs": [],
   "source": [
    "# Loop\n",
    "\n",
    "for t in reversed(range(1,par.T)): # Start in period T-1\n",
    "    \n",
    "    Cstar[t] = np.ones(NM) * np.nan # Notice change from par.M to M_grid\n",
    "    Vstar[t] = np.ones(NM) * np.nan\n",
    "    \n",
    "    # a) Loop over states\n",
    "    grid_M[t] = np.linspace(0,par.M + t, NM) # Make a grid over the possible ressources in period t\n",
    "    \n",
    "    for i_m in range(0,NM): # Loop over grid\n",
    "        m = grid_M[t][i_m]\n",
    "        Vstar[t][i_m] = -np.inf\n",
    "        \n",
    "        # b) Create interpolant of next period ressources\n",
    "        interp = interpolate.interp1d(Cstar[t+1], Vstar[t+1], kind='linear', fill_value = \"extrapolate\")\n",
    "        \n",
    "        # c) Loop over choices\n",
    "        for i_C in range(1,NC):\n",
    "            C = grid_C[i_C] * m\n",
    "            \n",
    "            EV = (1-par.pi) * interp(m-C) + par.pi * interp(m-C+1)\n",
    "            V = par.u(C, par) + par.beta * EV\n",
    "        \n",
    "        # d) Evaluate and save        \n",
    "            if V > Vstar[t][i_m]:\n",
    "                Vstar[t][i_m] = V\n",
    "                Cstar[t][i_m] = C\n",
    "                "
   ]
  },
  {
   "cell_type": "markdown",
   "metadata": {},
   "source": [
    "## 3.2 Plot first period consumption\n",
    "### It doesn't seem monotonically increasing in M, but this may be due to rounding errors computationally?"
   ]
  },
  {
   "cell_type": "code",
   "execution_count": 186,
   "metadata": {},
   "outputs": [
    {
     "data": {
      "image/png": "[encoded data removed]",
      "text/plain": [
       "<matplotlib.figure.Figure at 0xb13267748>"
      ]
     },
     "metadata": {},
     "output_type": "display_data"
    }
   ],
   "source": [
    "per = 1 # Period\n",
    "\n",
    "plt.figure()\n",
    "plt.plot(grid_M[per],Cstar[per])\n",
    "plt.title('Consumption Path in Period ' + str(per)); plt.ylabel('Consumption'); plt.xlabel('M')\n",
    "plt.xticks(range(0,11+per))\n",
    "plt.show()"
   ]
  },
  {
   "cell_type": "markdown",
   "metadata": {},
   "source": [
    "## 3.3 Using an optimizer instead of grid search"
   ]
  },
  {
   "cell_type": "code",
   "execution_count": null,
   "metadata": {},
   "outputs": [],
   "source": []
  }
 ],
 "metadata": {
  "kernelspec": {
   "display_name": "Python 3",
   "language": "python",
   "name": "python3"
  },
  "language_info": {
   "codemirror_mode": {
    "name": "ipython",
    "version": 3
   },
   "file_extension": ".py",
   "mimetype": "text/x-python",
   "name": "python",
   "nbconvert_exporter": "python",
   "pygments_lexer": "ipython3",
   "version": "3.5.4"
  }
 },
 "nbformat": 4,
 "nbformat_minor": 2
}
