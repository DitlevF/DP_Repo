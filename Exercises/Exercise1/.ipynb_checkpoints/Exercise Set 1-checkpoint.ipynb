{
 "cells": [
  {
   "cell_type": "markdown",
   "metadata": {},
   "source": [
    "# Exercise 1"
   ]
  },
  {
   "cell_type": "code",
   "execution_count": 4,
   "metadata": {},
   "outputs": [],
   "source": [
    "import numpy as np\n",
    "import matplotlib.pyplot as plt"
   ]
  },
  {
   "cell_type": "markdown",
   "metadata": {},
   "source": [
    "## 1.4"
   ]
  },
  {
   "cell_type": "code",
   "execution_count": 5,
   "metadata": {},
   "outputs": [],
   "source": [
    "# 1. Set up\n",
    "class struct():\n",
    "    pass"
   ]
  },
  {
   "cell_type": "markdown",
   "metadata": {},
   "source": [
    "# T = 2"
   ]
  },
  {
   "cell_type": "code",
   "execution_count": 6,
   "metadata": {},
   "outputs": [],
   "source": [
    "# 1. Set up\n",
    "par = struct()\n",
    "par.alpha = 0.5\n",
    "par.beta = 0.9\n",
    "par.T = 2\n",
    "\n",
    "# Utility function\n",
    "par.u = lambda x, par: x**par.alpha\n",
    "# 2. State\n",
    "par.M = 5"
   ]
  },
  {
   "cell_type": "code",
   "execution_count": 7,
   "metadata": {},
   "outputs": [
    {
     "name": "stdout",
     "output_type": "stream",
     "text": [
      "Optimal consumption is [3, 2] with value function 3.004843013704663\n"
     ]
    }
   ],
   "source": [
    "# 3. Solve for T = 2\n",
    "Vstar = -np.inf\n",
    "Cstar = [0 for x in range(par.T)]\n",
    "\n",
    "for C1 in range(0,par.M + 1):       \n",
    "        #a. Evaluate\n",
    "        V = par.u(C1, par) + par.beta * par.u(par.M - C1, par)\n",
    "        \n",
    "                #b. Save max\n",
    "        if V > Vstar:\n",
    "            Vstar = V\n",
    "            Cstar[0] = C1\n",
    "            \n",
    "            Cstar[1] = par.M - C1\n",
    "            \n",
    "        \n",
    "print('Optimal consumption is',Cstar, 'with value function', Vstar)\n"
   ]
  },
  {
   "cell_type": "markdown",
   "metadata": {},
   "source": [
    "# T = 3"
   ]
  },
  {
   "cell_type": "code",
   "execution_count": 8,
   "metadata": {},
   "outputs": [],
   "source": [
    "# 1. Set up\n",
    "par = struct()\n",
    "par.alpha = 0.5\n",
    "par.beta = 0.9\n",
    "par.T = 3\n",
    "# Utility function\n",
    "par.u = lambda x, par: x**par.alpha\n",
    "# 2. State\n",
    "par.M = 5"
   ]
  },
  {
   "cell_type": "code",
   "execution_count": 9,
   "metadata": {},
   "outputs": [
    {
     "name": "stdout",
     "output_type": "stream",
     "text": [
      "Optimal consumption is [2, 2, 1] with value function 3.4970057685088807\n"
     ]
    }
   ],
   "source": [
    "# Solve\n",
    "Vstar = -np.inf\n",
    "Cstar = [0 for x in range(par.T)]\n",
    "\n",
    "for C2 in range(0,par.M + 1):\n",
    "    for C1 in range(0, par.M - C2):\n",
    "        \n",
    "        # a. Evaluate\n",
    "        V = par.u(C2, par) + par.beta * par.u(C1,par) + (par.beta)**2 * par.u(par.M-C2-C1,par)\n",
    "        \n",
    "        # b. Save max\n",
    "        if V > Vstar:\n",
    "            Vstar = V\n",
    "            Cstar[0] = C1\n",
    "            Cstar[1] = C2\n",
    "            Cstar[2] = par.M - C1 - C2\n",
    "            \n",
    "\n",
    "print('Optimal consumption is',Cstar, 'with value function', Vstar)"
   ]
  },
  {
   "cell_type": "markdown",
   "metadata": {},
   "source": [
    "# Backwards Induction"
   ]
  },
  {
   "cell_type": "code",
   "execution_count": 10,
   "metadata": {},
   "outputs": [],
   "source": [
    "# 1. Set up\n",
    "par = struct()\n",
    "par.alpha = 0.5\n",
    "par.beta = 0.70\n",
    "par.T = 10\n",
    "# Utility function\n",
    "par.u = lambda x, par: x**par.alpha\n",
    "# 2. State\n",
    "par.M = 5"
   ]
  },
  {
   "cell_type": "code",
   "execution_count": 11,
   "metadata": {},
   "outputs": [],
   "source": [
    "# Solve\n",
    "Cstar, Vstar = dict(), dict()\n",
    "\n",
    "# Initialize end period\n",
    "Cstar[par.T] = np.arange(par.M+1)\n",
    "Vstar[par.T] = par.u(Cstar[par.T], par)\n",
    "\n",
    "for t in reversed(range(1,par.T)):\n",
    "    Cstar[t] = np.zeros(par.M+1)\n",
    "    Vstar[t] = np.zeros(par.M+1)\n",
    "    \n",
    "    for m in range(0, par.M+1): # 0 to 5\n",
    "        Vstar[t][m] = -np.inf \n",
    "        \n",
    "        for C in range(m+1): # 0 to m\n",
    "            V = par.u(C, par) + par.beta * Vstar[t+1][m-C]\n",
    "            if V > Vstar[t][m]:\n",
    "                Vstar[t][m] = V\n",
    "                Cstar[t][m] = C "
   ]
  },
  {
   "cell_type": "markdown",
   "metadata": {},
   "source": [
    "# Simulate $C_1,... C_{10}$ with $M = 5$ and $T = 10$"
   ]
  },
  {
   "cell_type": "code",
   "execution_count": 12,
   "metadata": {},
   "outputs": [],
   "source": [
    "C = np.zeros(par.T)\n",
    "C[0] = Cstar[1][par.M]\n",
    "\n",
    "for i in range(1,par.T):\n",
    "    tot_C = sum(C)\n",
    "    C[i] = Cstar[i+1][int(par.M - tot_C)]"
   ]
  },
  {
   "cell_type": "code",
   "execution_count": 13,
   "metadata": {},
   "outputs": [
    {
     "data": {
      "image/png": "[encoded data removed]",
      "text/plain": [
       "<matplotlib.figure.Figure at 0x10f57a128>"
      ]
     },
     "metadata": {},
     "output_type": "display_data"
    }
   ],
   "source": [
    "plt.figure()\n",
    "x = np.linspace(1,10,10)\n",
    "plt.plot(x,C)\n",
    "plt.title('Consumption Path'); plt.ylabel('Consumption'); plt.xlabel('Time'); plt.xticks(range(1,11))\n",
    "plt.show()"
   ]
  },
  {
   "cell_type": "markdown",
   "metadata": {},
   "source": [
    "# Exercise 2"
   ]
  },
  {
   "cell_type": "markdown",
   "metadata": {},
   "source": [
    "## 2.1"
   ]
  },
  {
   "cell_type": "code",
   "execution_count": 14,
   "metadata": {},
   "outputs": [],
   "source": [
    "# 1. Set up\n",
    "par = struct()\n",
    "par.alpha = 0.5\n",
    "par.beta = 0.9\n",
    "par.pi = 0.5\n",
    "par.T = 10\n",
    "\n",
    "# Utility function\n",
    "par.u = lambda x, par: x**par.alpha\n",
    "# 2. State\n",
    "par.M = 10"
   ]
  },
  {
   "cell_type": "code",
   "execution_count": 15,
   "metadata": {},
   "outputs": [],
   "source": [
    "# Input to model\n",
    "Cstar, Vstar = dict(), dict()\n",
    "\n",
    "# Initialize end period\n",
    "Cstar[par.T] = np.arange(par.M + par.T + 1)\n",
    "Vstar[par.T] = par.u(Cstar[par.T], par)\n",
    "\n",
    "for t in reversed(range(1,par.T)):\n",
    "    Cstar[t] = np.zeros(par.M + par.T +1)\n",
    "    Vstar[t] = np.zeros(par.M + par.T +1)\n",
    "    \n",
    "    for m in range(1,par.M+t+1): # We can have M+t ressources in period t\n",
    "        Vstar[t][m] = -np.inf\n",
    "        for C in range(0,m):\n",
    "            if t == par.T:\n",
    "                V = par.u(C, par) # Consume everything - really not necessary, as we have already initialized above\n",
    "            else:\n",
    "                EV = (1-par.pi) * Vstar[t+1][m-C] + par.pi * Vstar[t+1][m-C+1]\n",
    "                V = par.u(C, par) + par.beta * EV\n",
    "                \n",
    "            if V > Vstar[t][m]:\n",
    "                Vstar[t][m] = V\n",
    "                Cstar[t][m] = C \n",
    "                 "
   ]
  },
  {
   "cell_type": "markdown",
   "metadata": {},
   "source": [
    "## 2.2. Plot first period consumption"
   ]
  },
  {
   "cell_type": "code",
   "execution_count": 16,
   "metadata": {},
   "outputs": [
    {
     "data": {
      "image/png": "[encoded data removed]",
      "text/plain": [
       "<matplotlib.figure.Figure at 0x10f8a92b0>"
      ]
     },
     "metadata": {},
     "output_type": "display_data"
    }
   ],
   "source": [
    "Cstar1 = Cstar[1][0:12]\n",
    "#Vstar1 = Vstar[1][0:12]\n",
    "\n",
    "plt.figure()\n",
    "x = np.linspace(1,12,12)\n",
    "x = x - 1\n",
    "plt.plot(x,Cstar1)\n",
    "#plt.plot(x,Vstar1)\n",
    "plt.title('Consumption Path in Period 1'); plt.ylabel('Consumption'); plt.xlabel('M'); plt.xticks(range(0,12))\n",
    "plt.show()"
   ]
  },
  {
   "cell_type": "markdown",
   "metadata": {},
   "source": [
    "## 2.3: Vary $\\pi$ and check that both C and V move weakly upwards in it"
   ]
  },
  {
   "cell_type": "markdown",
   "metadata": {},
   "source": [
    "$\\pi = 0.5$"
   ]
  },
  {
   "cell_type": "code",
   "execution_count": 17,
   "metadata": {},
   "outputs": [
    {
     "data": {
      "image/png": "[encoded data removed]",
      "text/plain": [
       "<matplotlib.figure.Figure at 0x10f991b38>"
      ]
     },
     "metadata": {},
     "output_type": "display_data"
    }
   ],
   "source": [
    "par.pi = 0.5\n",
    "\n",
    "# Input to model\n",
    "Cstar, Vstar = dict(), dict()\n",
    "\n",
    "# Initialize end period\n",
    "Cstar[par.T] = np.arange(par.M + par.T + 1)\n",
    "Vstar[par.T] = par.u(Cstar[par.T], par)\n",
    "\n",
    "for t in reversed(range(1,par.T)):\n",
    "    Cstar[t] = np.zeros(par.M + par.T +1)\n",
    "    Vstar[t] = np.zeros(par.M + par.T +1)\n",
    "    \n",
    "    for m in range(1,par.M+t+1): # We can have M+t ressources in period t\n",
    "        Vstar[t][m] = -np.inf\n",
    "        for C in range(0,m):\n",
    "            if t == par.T:\n",
    "                V = par.u(C, par) # Consume everything - really not necessary, as we have already initialized above\n",
    "            else:\n",
    "                EV = (1-par.pi) * Vstar[t+1][m-C] + par.pi * Vstar[t+1][m-C+1]\n",
    "                V = par.u(C, par) + par.beta * EV\n",
    "                \n",
    "            if V > Vstar[t][m]:\n",
    "                Vstar[t][m] = V\n",
    "                Cstar[t][m] = C \n",
    "                \n",
    "Cstar1 = Cstar[1][0:12]\n",
    "#Vstar1 = Vstar[1][0:12]\n",
    "\n",
    "plt.figure()\n",
    "x = np.linspace(1,12,12)\n",
    "x = x - 1\n",
    "plt.plot(x,Cstar1)\n",
    "#plt.plot(x,Vstar1)\n",
    "plt.title('Consumption Path in Period 1'); plt.ylabel('Consumption'); plt.xlabel('M'); plt.xticks(range(0,12))\n",
    "plt.show()\n"
   ]
  },
  {
   "cell_type": "markdown",
   "metadata": {},
   "source": [
    "$\\pi = 0.1$"
   ]
  },
  {
   "cell_type": "code",
   "execution_count": 18,
   "metadata": {},
   "outputs": [
    {
     "data": {
      "image/png": "[encoded data removed]",
      "text/plain": [
       "<matplotlib.figure.Figure at 0x10fa1c9e8>"
      ]
     },
     "metadata": {},
     "output_type": "display_data"
    }
   ],
   "source": [
    "par.pi = 0.1\n",
    "\n",
    "# Input to model\n",
    "Cstar, Vstar = dict(), dict()\n",
    "\n",
    "# Initialize end period\n",
    "Cstar[par.T] = np.arange(par.M + par.T + 1)\n",
    "Vstar[par.T] = par.u(Cstar[par.T], par)\n",
    "\n",
    "for t in reversed(range(1,par.T)): # Notice, we are iterating from T-1 to 1 with T given above.\n",
    "    Cstar[t] = np.zeros(par.M + par.T +1)\n",
    "    Vstar[t] = np.zeros(par.M + par.T +1)\n",
    "    \n",
    "    for m in range(1,par.M+t+1): # We can have M+t ressources in period t\n",
    "        Vstar[t][m] = -np.inf\n",
    "        for C in range(0,m):\n",
    "            if t == par.T:\n",
    "                V = par.u(C, par) # Consume everything - really not necessary, as we have already initialized above\n",
    "            else:\n",
    "                EV = (1-par.pi) * Vstar[t+1][m-C] + par.pi * Vstar[t+1][m-C+1]\n",
    "                V = par.u(C, par) + par.beta * EV\n",
    "                \n",
    "            if V > Vstar[t][m]:\n",
    "                Vstar[t][m] = V\n",
    "                Cstar[t][m] = C \n",
    "                \n",
    "Cstar1 = Cstar[1][0:12]\n",
    "#Vstar1 = Vstar[1][0:12]\n",
    "\n",
    "plt.figure()\n",
    "x = np.linspace(1,12,12)\n",
    "x = x - 1\n",
    "plt.plot(x,Cstar1)\n",
    "#plt.plot(x,Vstar1)\n",
    "plt.title('Consumption Path in Period 1'); plt.ylabel('Consumption'); plt.xlabel('M'); plt.xticks(range(0,12))\n",
    "plt.show()\n"
   ]
  },
  {
   "cell_type": "markdown",
   "metadata": {},
   "source": [
    "$\\pi = 0.9$"
   ]
  },
  {
   "cell_type": "code",
   "execution_count": 19,
   "metadata": {},
   "outputs": [
    {
     "data": {
      "image/png": "[encoded data removed]",
      "text/plain": [
       "<matplotlib.figure.Figure at 0x10fa41198>"
      ]
     },
     "metadata": {},
     "output_type": "display_data"
    }
   ],
   "source": [
    "par.pi = 0.9\n",
    "\n",
    "# Input to model\n",
    "Cstar, Vstar = dict(), dict()\n",
    "\n",
    "# Initialize end period\n",
    "Cstar[par.T] = np.arange(par.M + par.T + 1)\n",
    "Vstar[par.T] = par.u(Cstar[par.T], par)\n",
    "\n",
    "for t in reversed(range(1,par.T)):\n",
    "    Cstar[t] = np.zeros(par.M + par.T +1)\n",
    "    Vstar[t] = np.zeros(par.M + par.T +1)\n",
    "    \n",
    "    for m in range(1,par.M+t+1): # We can have M+t ressources in period t\n",
    "        Vstar[t][m] = -np.inf\n",
    "        for C in range(0,m):\n",
    "            if t == par.T:\n",
    "                V = par.u(C, par) # Consume everything - really not necessary, as we have already initialized above\n",
    "            else:\n",
    "                EV = (1-par.pi) * Vstar[t+1][m-C] + par.pi * Vstar[t+1][m-C+1]\n",
    "                V = par.u(C, par) + par.beta * EV\n",
    "                \n",
    "            if V > Vstar[t][m]:\n",
    "                Vstar[t][m] = V\n",
    "                Cstar[t][m] = C\n",
    "\n",
    "Cstar1 = Cstar[1][0:12]\n",
    "#Vstar1 = Vstar[1][0:12]\n",
    "\n",
    "plt.figure()\n",
    "x = np.linspace(1,12,12)\n",
    "x = x - 1\n",
    "plt.plot(x,Cstar1)\n",
    "#plt.plot(x,Vstar1)\n",
    "plt.title('Consumption Path in Period 1'); plt.ylabel('Consumption'); plt.xlabel('M'); plt.xticks(range(0,12))\n",
    "plt.show()\n"
   ]
  },
  {
   "cell_type": "markdown",
   "metadata": {},
   "source": [
    "# Exercise 3"
   ]
  },
  {
   "cell_type": "markdown",
   "metadata": {},
   "source": [
    "## 3.1"
   ]
  },
  {
   "cell_type": "code",
   "execution_count": 20,
   "metadata": {},
   "outputs": [],
   "source": [
    "from scipy import interpolate"
   ]
  },
  {
   "cell_type": "code",
   "execution_count": 21,
   "metadata": {},
   "outputs": [],
   "source": [
    "def f(x):\n",
    "    func = (x-3)**2\n",
    "    return(func)"
   ]
  },
  {
   "cell_type": "code",
   "execution_count": 22,
   "metadata": {},
   "outputs": [],
   "source": [
    "x_true = np.linspace(0,6,100)\n",
    "f_true = f(x_true)\n",
    "x_known = np.array([1,2,3,4,5])\n",
    "f_known = f(x_known)"
   ]
  },
  {
   "cell_type": "code",
   "execution_count": 23,
   "metadata": {},
   "outputs": [
    {
     "data": {
      "image/png": "[encoded data removed]",
      "text/plain": [
       "<matplotlib.figure.Figure at 0xb171d83c8>"
      ]
     },
     "metadata": {},
     "output_type": "display_data"
    }
   ],
   "source": [
    "f_int_prel = interpolate.interp1d(x_known, f_known, kind='linear', fill_value = \"extrapolate\")\n",
    "f_int = f_int_prel(x_true)\n",
    "\n",
    "plt.plot(x_true,f_true)\n",
    "plt.plot(x_true, f_int)\n",
    "plt.show()"
   ]
  },
  {
   "cell_type": "markdown",
   "metadata": {},
   "source": [
    "## 3.2"
   ]
  },
  {
   "cell_type": "code",
   "execution_count": 24,
   "metadata": {},
   "outputs": [],
   "source": [
    "# 1. Set up\n",
    "par = struct()\n",
    "par.alpha = 0.5\n",
    "par.beta = 0.5\n",
    "par.pi = 0.5\n",
    "par.T = 10\n",
    "\n",
    "# Utility function\n",
    "par.u = lambda x, par: x**par.alpha\n",
    "# 2. State\n",
    "par.M = 10\n",
    "\n",
    "# 3. Grid\n",
    "NC = NM = 50\n",
    "grid_C = np.linspace(0,1,NC)"
   ]
  },
  {
   "cell_type": "code",
   "execution_count": 25,
   "metadata": {},
   "outputs": [],
   "source": [
    "# Input to model\n",
    "Cstar, Vstar, grid_M = dict(), dict(), dict() # Notice, grid is now also a dictionary, where the grid changes with t\n",
    "\n",
    "# Initialize end period\n",
    "Cstar[par.T] = np.linspace(0,par.M + par.T, NM) # Notice change\n",
    "Vstar[par.T] = par.u(Cstar[par.T], par)    "
   ]
  },
  {
   "cell_type": "code",
   "execution_count": 27,
   "metadata": {},
   "outputs": [],
   "source": [
    "for t in reversed(range(1,par.T)): # Start in period T-1\n",
    "    #print(t)\n",
    "    Cstar[t] = np.ones(NM) * np.nan # Notice change from par.M to M_grid\n",
    "    Vstar[t] = np.ones(NM) * np.nan\n",
    "    \n",
    "    # a) Loop over states\n",
    "    grid_M[t] = np.linspace(0,par.M + t, NM) # Make a grid over the possible ressources in period t\n",
    "    \n",
    "    #print(t)\n",
    "    #print(grid_M[t+1])\n",
    "\n",
    "    for i_m in range(0,NM): # Loop over grid\n",
    "        m = grid_M[t][i_m]\n",
    "        Vstar[t][i_m] = -np.inf\n",
    "               \n",
    "        if t < par.T:\n",
    "        # b) Create interpolant of next period ressources\n",
    "            interp = interpolate.interp1d(grid_M[t], Vstar[t+1], kind='linear', fill_value = \"extrapolate\")\n",
    "        # c) Loop over choices\n",
    "        for i_C in range(1,NC):\n",
    "            C = grid_C[i_C] * m\n",
    "            \n",
    "            EV = (1-par.pi) * interp(m-C) + par.pi * interp(m-C+1)\n",
    "            V = par.u(C, par) + par.beta * EV\n",
    "        \n",
    "        # d) Evaluate and save        \n",
    "            if V > Vstar[t][i_m]:\n",
    "                Vstar[t][i_m] = V\n",
    "                Cstar[t][i_m] = C"
   ]
  },
  {
   "cell_type": "markdown",
   "metadata": {},
   "source": [
    "## 3.2 Plot first period consumption\n"
   ]
  },
  {
   "cell_type": "code",
   "execution_count": 28,
   "metadata": {},
   "outputs": [
    {
     "data": {
      "image/png": "[encoded data removed]",
      "text/plain": [
       "<matplotlib.figure.Figure at 0x10fb71fd0>"
      ]
     },
     "metadata": {},
     "output_type": "display_data"
    }
   ],
   "source": [
    "per = 1 # Period\n",
    "\n",
    "plt.figure()\n",
    "plt.plot(grid_M[per],Cstar[per])\n",
    "plt.title('Consumption Path in Period ' + str(per)); plt.ylabel('Consumption'); plt.xlabel('M')\n",
    "plt.xticks(range(0,11+per))\n",
    "plt.show()"
   ]
  },
  {
   "cell_type": "markdown",
   "metadata": {},
   "source": [
    "## 3.3 Using an optimizer instead of grid search"
   ]
  },
  {
   "cell_type": "code",
   "execution_count": 29,
   "metadata": {},
   "outputs": [],
   "source": [
    "def test_f(x):\n",
    "    return(x**2+x)"
   ]
  },
  {
   "cell_type": "code",
   "execution_count": 30,
   "metadata": {},
   "outputs": [],
   "source": [
    "from scipy.optimize import minimize"
   ]
  },
  {
   "cell_type": "code",
   "execution_count": 31,
   "metadata": {},
   "outputs": [],
   "source": [
    "initial_guess = 10\n",
    "tolerance = 10**(-6)\n",
    "res = minimize(test_f, x0 = initial_guess, tol = tolerance)"
   ]
  },
  {
   "cell_type": "code",
   "execution_count": 32,
   "metadata": {},
   "outputs": [
    {
     "data": {
      "text/plain": [
       "-0.24999999999997788"
      ]
     },
     "execution_count": 32,
     "metadata": {},
     "output_type": "execute_result"
    }
   ],
   "source": [
    "res.fun"
   ]
  },
  {
   "cell_type": "markdown",
   "metadata": {},
   "source": [
    "# Exercise 4: Numerical Integration"
   ]
  },
  {
   "cell_type": "markdown",
   "metadata": {},
   "source": [
    "## 4.1 Monte Carlo Integration"
   ]
  },
  {
   "cell_type": "code",
   "execution_count": 33,
   "metadata": {},
   "outputs": [],
   "source": [
    "def f(x): return(x**2)\n",
    "mu = 0\n",
    "sigma = 1\n",
    "draws = 10**5 # Quite precise for exponent > 3"
   ]
  },
  {
   "cell_type": "code",
   "execution_count": 34,
   "metadata": {},
   "outputs": [
    {
     "name": "stdout",
     "output_type": "stream",
     "text": [
      "1.002395752282476\n"
     ]
    }
   ],
   "source": [
    "np.random.seed(2019)\n",
    "x = np.random.normal(mu,sigma,draws)\n",
    "        \n",
    "MC_integral = np.mean(f(x))\n",
    "print(MC_integral)"
   ]
  },
  {
   "cell_type": "markdown",
   "metadata": {},
   "source": [
    "## 4.2 Equiprobable Integration"
   ]
  },
  {
   "cell_type": "code",
   "execution_count": 35,
   "metadata": {},
   "outputs": [],
   "source": [
    "from scipy.stats import norm\n",
    "import scipy.integrate as integrate"
   ]
  },
  {
   "cell_type": "code",
   "execution_count": 36,
   "metadata": {},
   "outputs": [],
   "source": [
    "# Create a mean function integrated over the normal distribution\n",
    "def norm_func(x, mu = 0,sigma = 1):\n",
    "    output = x * (1/((2*np.pi*sigma**2)**0.5)) * np.exp(-(1/2*sigma**2) * (x-mu)**2)\n",
    "    return(output)"
   ]
  },
  {
   "cell_type": "code",
   "execution_count": 37,
   "metadata": {},
   "outputs": [
    {
     "data": {
      "text/plain": [
       "0.0"
      ]
     },
     "execution_count": 37,
     "metadata": {},
     "output_type": "execute_result"
    }
   ],
   "source": [
    "norm.ppf(0.5, loc = mu, scale = sigma) # At value 0.0, the std normal distribition has 50% mass above and below"
   ]
  },
  {
   "cell_type": "code",
   "execution_count": 38,
   "metadata": {},
   "outputs": [
    {
     "data": {
      "text/plain": [
       "0.9947108533794191"
      ]
     },
     "execution_count": 38,
     "metadata": {},
     "output_type": "execute_result"
    }
   ],
   "source": [
    "N_EP = 50\n",
    "low_value = 10**-8\n",
    "high_value = 1 - low_value\n",
    "\n",
    "# Step 1\n",
    "grid_S = np.linspace(low_value,high_value,N_EP+1)\n",
    "\n",
    "# Step 2\n",
    "Z = norm.ppf(grid_S, loc = mu, scale = sigma);\n",
    "\n",
    "# Step 3: Find weighted mid-points\n",
    "x = np.ones(N_EP) * np.nan \n",
    "for i in range(0,N_EP):\n",
    "    x[i] = integrate.quad(norm_func, a = Z[i], b = Z[i+1])[0] * N_EP\n",
    "    \n",
    "# Step 4: Approximate integral\n",
    "Equi_integral = np.mean(f(x))\n",
    "Equi_integral\n"
   ]
  },
  {
   "cell_type": "markdown",
   "metadata": {},
   "source": [
    "## 4.3 Gauss Hermite integration"
   ]
  },
  {
   "cell_type": "code",
   "execution_count": 39,
   "metadata": {},
   "outputs": [],
   "source": [
    "from numpy.polynomial.hermite import hermgauss"
   ]
  },
  {
   "cell_type": "code",
   "execution_count": 40,
   "metadata": {},
   "outputs": [
    {
     "data": {
      "text/plain": [
       "1.0"
      ]
     },
     "execution_count": 40,
     "metadata": {},
     "output_type": "execute_result"
    }
   ],
   "source": [
    "mu, sigma = 0,1\n",
    "\n",
    "N_GH = 5\n",
    "x,w = hermgauss(N_GH)\n",
    "x = x * np.sqrt(2) * sigma + mu\n",
    "w = w/np.sqrt(np.pi)\n",
    "\n",
    "sum(f(x) * w)\n"
   ]
  },
  {
   "cell_type": "markdown",
   "metadata": {},
   "source": [
    "# Exercise 5: Gaussian Shocks"
   ]
  },
  {
   "cell_type": "markdown",
   "metadata": {},
   "source": [
    "## 5.1 Using Gauss-Hermite Quadrature"
   ]
  },
  {
   "cell_type": "code",
   "execution_count": 41,
   "metadata": {},
   "outputs": [],
   "source": [
    "# 1. Set up\n",
    "par = struct()\n",
    "par.beta = 0.98\n",
    "par.T = 10\n",
    "par.R = 1/par.beta\n",
    "par.rho = 0.5\n",
    "\n",
    "\n",
    "# Utility function\n",
    "par.u = lambda x, par: (x**(1-par.rho))/(1-par.rho) # Note a new utility function here\n",
    "# 2. State\n",
    "par.M = 1.5\n",
    "\n",
    "# 3. Grid\n",
    "NC = NM = 50\n",
    "grid_C = np.linspace(0,1,NC)"
   ]
  },
  {
   "cell_type": "code",
   "execution_count": 42,
   "metadata": {},
   "outputs": [],
   "source": [
    "# Input to model\n",
    "Cstar, Vstar, grid_M = dict(), dict(), dict() # Notice, grid is now also a dictionary, where the grid changes with t\n",
    "\n",
    "# Initialize end period\n",
    "Cstar[par.T] = np.linspace(0,par.M + par.T, NM) # Notice change\n",
    "Vstar[par.T] = par.u(Cstar[par.T], par) "
   ]
  },
  {
   "cell_type": "code",
   "execution_count": 43,
   "metadata": {},
   "outputs": [],
   "source": [
    "# Gaussian Quadrature\n",
    "par.S = 5 # Gaussian Quadrature\n",
    "par.sigma_zeta = 0.2\n",
    "par.mu = 0\n",
    "\n",
    "x,w = hermgauss(par.S)\n",
    "x = x * np.sqrt(2) * par.sigma_zeta + par.mu\n",
    "w = w/np.sqrt(np.pi)"
   ]
  },
  {
   "cell_type": "code",
   "execution_count": 44,
   "metadata": {},
   "outputs": [],
   "source": [
    "for t in reversed(range(1,par.T+1)): # Start in period T-1\n",
    "    \n",
    "    Cstar[t] = np.ones(NM) * np.nan # Notice change from par.M to M_grid\n",
    "    Vstar[t] = np.ones(NM) * np.nan\n",
    "    \n",
    "    # a) Loop over states\n",
    "    grid_M[t] = np.linspace(0,par.M + t, NM) # Make a grid over the possible ressources in period t\n",
    "    \n",
    "    for i_m in range(0,NM): # Loop over grid\n",
    "        m = grid_M[t][i_m]\n",
    "        Vstar[t][i_m] = -np.inf\n",
    "        \n",
    "        if t < par.T:\n",
    "        # b) Create interpolant of next period ressources\n",
    "            interp = interpolate.interp1d(grid_M[t+1], Vstar[t+1], kind='linear', fill_value = \"extrapolate\")\n",
    "        \n",
    "        # c) Loop over choices\n",
    "        for i_C in range(1,NC):\n",
    "            C = grid_C[i_C] * m\n",
    "            EV_next = 0 # Initialize     \n",
    "            \n",
    "            # d) Evaluate expectations via Gaussian quadrature.\n",
    "            \n",
    "            for i in range(1,par.S):\n",
    "                M_next = par.R * (m - C) + np.exp(2**0.5 * par.sigma_zeta * x[i])\n",
    "                EV_next = EV_next + w[i] * interp(M_next)\n",
    "            \n",
    "            V = par.u(C, par) + par.beta * EV_next                       \n",
    "        \n",
    "        # d) Evaluate and save        \n",
    "            if V > Vstar[t][i_m]:\n",
    "                Vstar[t][i_m] = V\n",
    "                Cstar[t][i_m] = C"
   ]
  },
  {
   "cell_type": "markdown",
   "metadata": {},
   "source": [
    "## 5.2 Simulate N households"
   ]
  },
  {
   "cell_type": "code",
   "execution_count": 45,
   "metadata": {},
   "outputs": [],
   "source": [
    "np.random.seed(2019)\n",
    "\n",
    "simN =  1000 # Number of households\n",
    "M_ini = par.M # Must be same initial as the model trained on\n",
    "\n",
    "# Allocate \n",
    "simM = M_ini * np.ones((simN,par.T))\n",
    "simC = np.ones((simN,par.T))\n",
    "\n",
    "for t in range(0,par.T):\n",
    "    Cstar_interp = interp = interpolate.interp1d(grid_M[t+1], Cstar[t+1], kind='linear', fill_value = \"extrapolate\")\n",
    "    simC[:,t] = Cstar_interp(simM[:,t])\n",
    "    \n",
    "    if t < par.T-1:\n",
    "        A = simM[:,t] - simC[:,t]\n",
    "        Y = np.exp(np.random.normal(par.mu,par.sigma_zeta,simN) * par.sigma_zeta * x[i])\n",
    "        simM[:,t+1] = par.R * A + Y\n"
   ]
  },
  {
   "cell_type": "code",
   "execution_count": 46,
   "metadata": {},
   "outputs": [
    {
     "data": {
      "text/plain": [
       "[1.1507705122865473,\n",
       " 1.1108541070818683,\n",
       " 1.0902463548756478,\n",
       " 1.064436231618402,\n",
       " 1.0337535863759983,\n",
       " 1.0213289803606183,\n",
       " 1.0172055379571368,\n",
       " 1.009621707008455,\n",
       " 1.0065912634076124,\n",
       " 1.0181306297277506]"
      ]
     },
     "execution_count": 46,
     "metadata": {},
     "output_type": "execute_result"
    }
   ],
   "source": [
    "simC_mean = [np.mean(simC[:,x]) for x in range(par.T)]\n",
    "simC_mean"
   ]
  },
  {
   "cell_type": "code",
   "execution_count": 47,
   "metadata": {},
   "outputs": [
    {
     "data": {
      "image/png": "[encoded data removed]",
      "text/plain": [
       "<matplotlib.figure.Figure at 0x1a18586550>"
      ]
     },
     "metadata": {},
     "output_type": "display_data"
    }
   ],
   "source": [
    "plt.figure()\n",
    "x = np.linspace(1,par.T,par.T)\n",
    "plt.plot(x,simC_mean)\n",
    "plt.title('Consumption Path'); plt.ylabel('Consumption'); plt.xlabel('Time'); plt.xticks(range(1,11))\n",
    "plt.show()"
   ]
  },
  {
   "cell_type": "markdown",
   "metadata": {},
   "source": [
    "## Looks wrong..."
   ]
  },
  {
   "cell_type": "markdown",
   "metadata": {},
   "source": [
    "# Create functions for computing"
   ]
  },
  {
   "cell_type": "code",
   "execution_count": 48,
   "metadata": {},
   "outputs": [],
   "source": [
    "from scipy.optimize import minimize_scalar"
   ]
  },
  {
   "cell_type": "code",
   "execution_count": 49,
   "metadata": {},
   "outputs": [],
   "source": [
    "import sys\n",
    "\n",
    "if not sys.warnoptions:\n",
    "    import warnings\n",
    "    warnings.simplefilter(\"ignore\")"
   ]
  },
  {
   "cell_type": "code",
   "execution_count": 340,
   "metadata": {},
   "outputs": [],
   "source": [
    "#import os\n",
    "#os.chdir('..')\n",
    "#os.chdir('/Users/ditlevkf/Ditlev/KU/Kandidaten/DP/Exercises/')"
   ]
  },
  {
   "cell_type": "code",
   "execution_count": 351,
   "metadata": {},
   "outputs": [],
   "source": [
    "from DP.Functions.model_setup import par"
   ]
  },
  {
   "cell_type": "code",
   "execution_count": 52,
   "metadata": {},
   "outputs": [
    {
     "ename": "AttributeError",
     "evalue": "'struct' object has no attribute 'V_plus_interp'",
     "output_type": "error",
     "traceback": [
      "\u001b[0;31m---------------------------------------------------------------------------\u001b[0m",
      "\u001b[0;31mAttributeError\u001b[0m                            Traceback (most recent call last)",
      "\u001b[0;32m<ipython-input-52-cb48edba162b>\u001b[0m in \u001b[0;36m<module>\u001b[0;34m()\u001b[0m\n\u001b[1;32m     61\u001b[0m     \u001b[0;32mreturn\u001b[0m\u001b[0;34m(\u001b[0m\u001b[0mV\u001b[0m\u001b[0;34m,\u001b[0m\u001b[0mCstar\u001b[0m\u001b[0;34m)\u001b[0m\u001b[0;34m\u001b[0m\u001b[0m\n\u001b[1;32m     62\u001b[0m \u001b[0;34m\u001b[0m\u001b[0m\n\u001b[0;32m---> 63\u001b[0;31m \u001b[0mfind_V\u001b[0m\u001b[0;34m(\u001b[0m\u001b[0mpar\u001b[0m\u001b[0;34m,\u001b[0m \u001b[0mlast\u001b[0m \u001b[0;34m=\u001b[0m \u001b[0;36m0\u001b[0m\u001b[0;34m)\u001b[0m\u001b[0;34m\u001b[0m\u001b[0m\n\u001b[0m",
      "\u001b[0;32m<ipython-input-52-cb48edba162b>\u001b[0m in \u001b[0;36mfind_V\u001b[0;34m(par, last)\u001b[0m\n\u001b[1;32m     53\u001b[0m         \u001b[0;31m# c) Find optimum\u001b[0m\u001b[0;34m\u001b[0m\u001b[0;34m\u001b[0m\u001b[0m\n\u001b[1;32m     54\u001b[0m         res = minimize_scalar(Vfunc_neg, tol = par.tolerance, args = par\n\u001b[0;32m---> 55\u001b[0;31m                        , bounds = [0,Mt], method = \"bounded\")\n\u001b[0m\u001b[1;32m     56\u001b[0m \u001b[0;34m\u001b[0m\u001b[0m\n\u001b[1;32m     57\u001b[0m         \u001b[0mV\u001b[0m\u001b[0;34m[\u001b[0m\u001b[0mi_M\u001b[0m\u001b[0;34m]\u001b[0m \u001b[0;34m=\u001b[0m \u001b[0mfloat\u001b[0m\u001b[0;34m(\u001b[0m\u001b[0;34m-\u001b[0m\u001b[0mres\u001b[0m\u001b[0;34m.\u001b[0m\u001b[0mfun\u001b[0m\u001b[0;34m)\u001b[0m\u001b[0;34m\u001b[0m\u001b[0m\n",
      "\u001b[0;32m~/anaconda3/lib/python3.5/site-packages/scipy/optimize/_minimize.py\u001b[0m in \u001b[0;36mminimize_scalar\u001b[0;34m(fun, bracket, bounds, args, method, tol, options)\u001b[0m\n\u001b[1;32m    781\u001b[0m         \u001b[0;32mif\u001b[0m \u001b[0misinstance\u001b[0m\u001b[0;34m(\u001b[0m\u001b[0mdisp\u001b[0m\u001b[0;34m,\u001b[0m \u001b[0mbool\u001b[0m\u001b[0;34m)\u001b[0m\u001b[0;34m:\u001b[0m\u001b[0;34m\u001b[0m\u001b[0m\n\u001b[1;32m    782\u001b[0m             \u001b[0moptions\u001b[0m\u001b[0;34m[\u001b[0m\u001b[0;34m'disp'\u001b[0m\u001b[0;34m]\u001b[0m \u001b[0;34m=\u001b[0m \u001b[0;36m2\u001b[0m \u001b[0;34m*\u001b[0m \u001b[0mint\u001b[0m\u001b[0;34m(\u001b[0m\u001b[0mdisp\u001b[0m\u001b[0;34m)\u001b[0m\u001b[0;34m\u001b[0m\u001b[0m\n\u001b[0;32m--> 783\u001b[0;31m         \u001b[0;32mreturn\u001b[0m \u001b[0m_minimize_scalar_bounded\u001b[0m\u001b[0;34m(\u001b[0m\u001b[0mfun\u001b[0m\u001b[0;34m,\u001b[0m \u001b[0mbounds\u001b[0m\u001b[0;34m,\u001b[0m \u001b[0margs\u001b[0m\u001b[0;34m,\u001b[0m \u001b[0;34m**\u001b[0m\u001b[0moptions\u001b[0m\u001b[0;34m)\u001b[0m\u001b[0;34m\u001b[0m\u001b[0m\n\u001b[0m\u001b[1;32m    784\u001b[0m     \u001b[0;32melif\u001b[0m \u001b[0mmeth\u001b[0m \u001b[0;34m==\u001b[0m \u001b[0;34m'golden'\u001b[0m\u001b[0;34m:\u001b[0m\u001b[0;34m\u001b[0m\u001b[0m\n\u001b[1;32m    785\u001b[0m         \u001b[0;32mreturn\u001b[0m \u001b[0m_minimize_scalar_golden\u001b[0m\u001b[0;34m(\u001b[0m\u001b[0mfun\u001b[0m\u001b[0;34m,\u001b[0m \u001b[0mbracket\u001b[0m\u001b[0;34m,\u001b[0m \u001b[0margs\u001b[0m\u001b[0;34m,\u001b[0m \u001b[0;34m**\u001b[0m\u001b[0moptions\u001b[0m\u001b[0;34m)\u001b[0m\u001b[0;34m\u001b[0m\u001b[0m\n",
      "\u001b[0;32m~/anaconda3/lib/python3.5/site-packages/scipy/optimize/optimize.py\u001b[0m in \u001b[0;36m_minimize_scalar_bounded\u001b[0;34m(func, bounds, args, xatol, maxiter, disp, **unknown_options)\u001b[0m\n\u001b[1;32m   1739\u001b[0m     \u001b[0mrat\u001b[0m \u001b[0;34m=\u001b[0m \u001b[0me\u001b[0m \u001b[0;34m=\u001b[0m \u001b[0;36m0.0\u001b[0m\u001b[0;34m\u001b[0m\u001b[0m\n\u001b[1;32m   1740\u001b[0m     \u001b[0mx\u001b[0m \u001b[0;34m=\u001b[0m \u001b[0mxf\u001b[0m\u001b[0;34m\u001b[0m\u001b[0m\n\u001b[0;32m-> 1741\u001b[0;31m     \u001b[0mfx\u001b[0m \u001b[0;34m=\u001b[0m \u001b[0mfunc\u001b[0m\u001b[0;34m(\u001b[0m\u001b[0mx\u001b[0m\u001b[0;34m,\u001b[0m \u001b[0;34m*\u001b[0m\u001b[0margs\u001b[0m\u001b[0;34m)\u001b[0m\u001b[0;34m\u001b[0m\u001b[0m\n\u001b[0m\u001b[1;32m   1742\u001b[0m     \u001b[0mnum\u001b[0m \u001b[0;34m=\u001b[0m \u001b[0;36m1\u001b[0m\u001b[0;34m\u001b[0m\u001b[0m\n\u001b[1;32m   1743\u001b[0m     \u001b[0mfmin_data\u001b[0m \u001b[0;34m=\u001b[0m \u001b[0;34m(\u001b[0m\u001b[0;36m1\u001b[0m\u001b[0;34m,\u001b[0m \u001b[0mxf\u001b[0m\u001b[0;34m,\u001b[0m \u001b[0mfx\u001b[0m\u001b[0;34m)\u001b[0m\u001b[0;34m\u001b[0m\u001b[0m\n",
      "\u001b[0;32m<ipython-input-52-cb48edba162b>\u001b[0m in \u001b[0;36m<lambda>\u001b[0;34m(x, par)\u001b[0m\n\u001b[1;32m     43\u001b[0m         \u001b[0;31m# Convert function to negative for minimization\u001b[0m\u001b[0;34m\u001b[0m\u001b[0;34m\u001b[0m\u001b[0m\n\u001b[1;32m     44\u001b[0m \u001b[0;34m\u001b[0m\u001b[0m\n\u001b[0;32m---> 45\u001b[0;31m         \u001b[0mVfunc_neg\u001b[0m \u001b[0;34m=\u001b[0m \u001b[0;32mlambda\u001b[0m \u001b[0mx\u001b[0m\u001b[0;34m,\u001b[0m\u001b[0mpar\u001b[0m\u001b[0;34m:\u001b[0m \u001b[0;34m-\u001b[0m\u001b[0mVfunc\u001b[0m\u001b[0;34m(\u001b[0m\u001b[0mx\u001b[0m\u001b[0;34m,\u001b[0m\u001b[0mpar\u001b[0m\u001b[0;34m)\u001b[0m\u001b[0;34m\u001b[0m\u001b[0m\n\u001b[0m\u001b[1;32m     46\u001b[0m \u001b[0;34m\u001b[0m\u001b[0m\n\u001b[1;32m     47\u001b[0m         \u001b[0;31m# b) Initial guess\u001b[0m\u001b[0;34m\u001b[0m\u001b[0;34m\u001b[0m\u001b[0m\n",
      "\u001b[0;32m<ipython-input-52-cb48edba162b>\u001b[0m in \u001b[0;36m<lambda>\u001b[0;34m(C, par)\u001b[0m\n\u001b[1;32m     39\u001b[0m             \u001b[0mVfunc\u001b[0m \u001b[0;34m=\u001b[0m \u001b[0mpar\u001b[0m\u001b[0;34m.\u001b[0m\u001b[0mu\u001b[0m \u001b[0;31m# Assign function to Vfunc\u001b[0m\u001b[0;34m\u001b[0m\u001b[0m\n\u001b[1;32m     40\u001b[0m         \u001b[0;32melse\u001b[0m\u001b[0;34m:\u001b[0m\u001b[0;34m\u001b[0m\u001b[0m\n\u001b[0;32m---> 41\u001b[0;31m             \u001b[0mVfunc\u001b[0m \u001b[0;34m=\u001b[0m \u001b[0;32mlambda\u001b[0m \u001b[0mC\u001b[0m\u001b[0;34m,\u001b[0m\u001b[0mpar\u001b[0m\u001b[0;34m:\u001b[0m \u001b[0mpar\u001b[0m\u001b[0;34m.\u001b[0m\u001b[0mu\u001b[0m\u001b[0;34m(\u001b[0m\u001b[0mC\u001b[0m\u001b[0;34m,\u001b[0m\u001b[0mpar\u001b[0m\u001b[0;34m)\u001b[0m \u001b[0;34m+\u001b[0m \u001b[0mpar\u001b[0m\u001b[0;34m.\u001b[0m\u001b[0mbeta\u001b[0m \u001b[0;34m*\u001b[0m \u001b[0msum\u001b[0m\u001b[0;34m(\u001b[0m\u001b[0mpar\u001b[0m\u001b[0;34m.\u001b[0m\u001b[0mw\u001b[0m \u001b[0;34m*\u001b[0m \u001b[0mpar\u001b[0m\u001b[0;34m.\u001b[0m\u001b[0mV_plus_interp\u001b[0m\u001b[0;34m(\u001b[0m\u001b[0mpar\u001b[0m\u001b[0;34m.\u001b[0m\u001b[0mR\u001b[0m \u001b[0;34m*\u001b[0m \u001b[0;34m(\u001b[0m\u001b[0mMt\u001b[0m\u001b[0;34m-\u001b[0m\u001b[0mC\u001b[0m\u001b[0;34m)\u001b[0m \u001b[0;34m+\u001b[0m \u001b[0mpar\u001b[0m\u001b[0;34m.\u001b[0m\u001b[0mY\u001b[0m\u001b[0;34m)\u001b[0m\u001b[0;34m)\u001b[0m\u001b[0;34m\u001b[0m\u001b[0m\n\u001b[0m\u001b[1;32m     42\u001b[0m \u001b[0;34m\u001b[0m\u001b[0m\n\u001b[1;32m     43\u001b[0m         \u001b[0;31m# Convert function to negative for minimization\u001b[0m\u001b[0;34m\u001b[0m\u001b[0;34m\u001b[0m\u001b[0m\n",
      "\u001b[0;31mAttributeError\u001b[0m: 'struct' object has no attribute 'V_plus_interp'"
     ]
    }
   ],
   "source": [
    "# Let's create functions\n",
    "\n",
    "par.NM = 50\n",
    "par.M_max = 5 # Need to specify what we believe to be the maximum achievable income over the period\n",
    "par.grid_M = np.linspace(0,par.M_max, par.NM)\n",
    "par.beta = 0.98\n",
    "\n",
    "par.rho = 0.5\n",
    "par.u = lambda x, par: (x**(1-par.rho))/(1-par.rho)\n",
    "\n",
    "par.R = 1.04\n",
    "par.Y = 2\n",
    "\n",
    "# Gaussian Quadrature\n",
    "par.S = 5 # Gaussian Quadrature\n",
    "par.sigma_zeta = 0.2\n",
    "par.mu = 0\n",
    "\n",
    "par.x,par.w = hermgauss(par.S)\n",
    "par.x = par.x * np.sqrt(2) * par.sigma_zeta + par.mu\n",
    "par.w = par.w/np.sqrt(np.pi)\n",
    "\n",
    "par.tolerance = 10**(-6)\n",
    "\n",
    "# Interpolator\n",
    "\n",
    "def find_V(par,last = 1):\n",
    "    ''' Function to find V within a loop'''\n",
    "    \n",
    "    # a) Loop over states\n",
    "    V = np.ones(par.NM) * np.nan\n",
    "    Cstar = np.ones(par.NM) * np.nan\n",
    "    \n",
    "    for i_M in range(0,par.NM):\n",
    "        Mt = par.grid_M[i_M]\n",
    "        \n",
    "        # Value-of-choice function\n",
    "        if last == 1: # If we are interested in last period\n",
    "            Vfunc = par.u # Assign function to Vfunc\n",
    "        else:\n",
    "            Vfunc = lambda C,par: par.u(C,par) + par.beta * sum(par.w * par.V_plus_interp(par.R * (Mt-C) + par.Y))\n",
    "            \n",
    "        # Convert function to negative for minimization\n",
    "        \n",
    "        Vfunc_neg = lambda x,par: -Vfunc(x,par)\n",
    "        \n",
    "        # b) Initial guess\n",
    "        if i_M == 1:\n",
    "            initial_guess = 0.5 * Mt\n",
    "        else:\n",
    "            initial_guess = Cstar[i_M-1]\n",
    "            \n",
    "        # c) Find optimum        \n",
    "        res = minimize_scalar(Vfunc_neg, tol = par.tolerance, args = par\n",
    "                       , bounds = [0,Mt], method = \"bounded\")\n",
    "                     \n",
    "        V[i_M] = float(-res.fun)\n",
    "        Cstar[i_M] = float(res.x)\n",
    "            \n",
    "              \n",
    "    return(V,Cstar)\n",
    "    \n",
    "find_V(par, last = 0)\n"
   ]
  },
  {
   "cell_type": "code",
   "execution_count": 53,
   "metadata": {},
   "outputs": [],
   "source": [
    "def vfi_finite(par):\n",
    "    '''Finds optimal consumption paths in DP. Requires the call of function find_V'''\n",
    "    \n",
    "    # 1) Allocate memory\n",
    "    Cstar, V = dict(), dict()    \n",
    "    if par.rho < 1.0:\n",
    "        par.grid_M = np.linspace(0,par.M_max, par.NM)\n",
    "    else:\n",
    "        par.grid_M = np.linspace(par.tolerance,par.M_max, par.NM)\n",
    "    \n",
    "    # 2) Last Period\n",
    "    Vstar[par.T], Cstar[par.T] = find_V(par, last = 1)\n",
    "    \n",
    "    # 3) Backwards over time\n",
    "    for t in reversed(range(1,par.T)): # Start in period T-1\n",
    "        \n",
    "        # a) Create interpolant of next period ressources      \n",
    "        par.V_plus_interp = interpolate.interp1d(par.grid_M, Vstar[t+1], kind='linear', fill_value = \"extrapolate\")\n",
    "        \n",
    "        # b) Find V for all other states\n",
    "        Vstar[t], Cstar[t] = find_V(par,0)\n",
    "        \n",
    "    return(Cstar,Vstar)"
   ]
  },
  {
   "cell_type": "code",
   "execution_count": 54,
   "metadata": {},
   "outputs": [],
   "source": [
    "Cstar, Vstar = vfi_finite(par)        "
   ]
  },
  {
   "cell_type": "code",
   "execution_count": 55,
   "metadata": {},
   "outputs": [
    {
     "data": {
      "text/plain": [
       "{1: array([0.        , 0.10204021, 0.20408122, 0.30612209, 0.40816269,\n",
       "        0.5102037 , 0.61224438, 0.71428509, 0.81632617, 0.9183669 ,\n",
       "        1.02040762, 1.12244838, 1.22448914, 1.32653025, 1.42857089,\n",
       "        1.53061177, 1.63265235, 1.67142192, 1.6819471 , 1.69325861,\n",
       "        1.70476599, 1.71114609, 1.71614044, 1.72749188, 1.73856753,\n",
       "        1.74884518, 1.75864686, 1.76850867, 1.7797351 , 1.79257355,\n",
       "        1.80520076, 1.81675776, 1.82700581, 1.83638055, 1.84561466,\n",
       "        1.85509763, 1.86671713, 1.87205673, 1.88113769, 1.89452442,\n",
       "        1.9048083 , 1.91395093, 1.92347237, 1.93318306, 1.94324521,\n",
       "        1.95441114, 1.96943795, 1.97544483, 1.9754451 , 1.9754449 ]),\n",
       " 2: array([0.        , 0.10204021, 0.20408122, 0.30612209, 0.40816269,\n",
       "        0.5102037 , 0.61224438, 0.71428509, 0.81632617, 0.9183669 ,\n",
       "        1.02040762, 1.12244838, 1.22448914, 1.32653025, 1.42857098,\n",
       "        1.53061183, 1.6326524 , 1.69544732, 1.70374531, 1.71575543,\n",
       "        1.72765728, 1.73919257, 1.75115595, 1.76452389, 1.77747312,\n",
       "        1.79045406, 1.80327653, 1.81489773, 1.82582643, 1.83677297,\n",
       "        1.84458383, 1.84882111, 1.86311818, 1.87778638, 1.89074807,\n",
       "        1.90170661, 1.91178515, 1.92212216, 1.93286255, 1.9503783 ,\n",
       "        1.96642965, 1.9779901 , 1.98799177, 1.99372071, 1.9981387 ,\n",
       "        2.00873258, 2.01999891, 2.03281641, 2.05203022, 2.0520302 ]),\n",
       " 3: array([0.        , 0.10204021, 0.20408122, 0.30612209, 0.40816269,\n",
       "        0.5102037 , 0.61224438, 0.71428509, 0.81632617, 0.9183669 ,\n",
       "        1.02040762, 1.12244838, 1.22448914, 1.32653025, 1.42857074,\n",
       "        1.53061155, 1.63265245, 1.71994954, 1.73434597, 1.75061733,\n",
       "        1.7647123 , 1.77854597, 1.79229276, 1.80545701, 1.818864  ,\n",
       "        1.82496091, 1.83327123, 1.84810613, 1.86328601, 1.87815854,\n",
       "        1.89060645, 1.90292336, 1.91543434, 1.93241371, 1.94982235,\n",
       "        1.96232334, 1.96624834, 1.97588975, 1.98716019, 1.9988012 ,\n",
       "        2.01102962, 2.03645277, 2.05080763, 2.06196379, 2.07322254,\n",
       "        2.08509601, 2.09785315, 2.10753546, 2.1117118 , 2.13410914]),\n",
       " 4: array([0.        , 0.10204021, 0.20408122, 0.30612209, 0.40816269,\n",
       "        0.5102037 , 0.61224438, 0.71428509, 0.81632617, 0.9183669 ,\n",
       "        1.02040762, 1.12244838, 1.22448914, 1.32653025, 1.42857102,\n",
       "        1.53061162, 1.63265251, 1.73469349, 1.76928037, 1.78461578,\n",
       "        1.80127174, 1.8092622 , 1.81894719, 1.83539138, 1.85176164,\n",
       "        1.86796534, 1.88280484, 1.89979588, 1.91763502, 1.9352517 ,\n",
       "        1.94270003, 1.95133848, 1.96555646, 1.97979627, 1.99436333,\n",
       "        2.01908853, 2.0369032 , 2.05058674, 2.06340777, 2.07613798,\n",
       "        2.08006276, 2.0894249 , 2.12261467, 2.13554354, 2.14802624,\n",
       "        2.16122801, 2.17570425, 2.19208594, 2.20957598, 2.21712544]),\n",
       " 5: array([0.        , 0.10204021, 0.20408122, 0.30612209, 0.40816269,\n",
       "        0.5102037 , 0.61224438, 0.71428509, 0.81632617, 0.9183669 ,\n",
       "        1.02040762, 1.12244838, 1.22448914, 1.32653025, 1.42857102,\n",
       "        1.5306117 , 1.63265259, 1.73469319, 1.79748814, 1.80645427,\n",
       "        1.82437572, 1.84311385, 1.86168231, 1.88464399, 1.904942  ,\n",
       "        1.92307691, 1.9270017 , 1.94140364, 1.95919021, 1.98102873,\n",
       "        2.00433377, 2.02439222, 2.04111461, 2.05259034, 2.05663026,\n",
       "        2.07302187, 2.10751175, 2.12447906, 2.13942996, 2.15427559,\n",
       "        2.16967396, 2.18210364, 2.20827896, 2.22240649, 2.23700464,\n",
       "        2.25311721, 2.27222339, 2.30297118, 2.30769238, 2.31905973]),\n",
       " 6: array([0.        , 0.10204021, 0.20408122, 0.30612209, 0.40816269,\n",
       "        0.5102037 , 0.61224438, 0.71428509, 0.81632617, 0.9183669 ,\n",
       "        1.02040762, 1.12244838, 1.22448914, 1.32653025, 1.42857102,\n",
       "        1.53061181, 1.63265266, 1.73469324, 1.81531267, 1.83851533,\n",
       "        1.87095024, 1.89356954, 1.91130288, 1.91522791, 1.93597637,\n",
       "        1.96815372, 1.99249935, 2.0151133 , 2.03296702, 2.03689198,\n",
       "        2.06059729, 2.09410933, 2.11550002, 2.13436862, 2.15325245,\n",
       "        2.15855593, 2.19620692, 2.21460771, 2.23226334, 2.25055857,\n",
       "        2.27629494, 2.29575295, 2.31250546, 2.33020519, 2.35153779,\n",
       "        2.39208543, 2.39795936, 2.40963607, 2.42930662, 2.45455546]),\n",
       " 7: array([0.        , 0.10204021, 0.20408122, 0.30612209, 0.40816269,\n",
       "        0.5102037 , 0.61224438, 0.71428509, 0.81632617, 0.9183669 ,\n",
       "        1.02040762, 1.12244838, 1.22448914, 1.32653025, 1.42857102,\n",
       "        1.53061178, 1.63265239, 1.73469331, 1.83673432, 1.88380687,\n",
       "        1.9034536 , 1.91000253, 1.95434452, 1.98352788, 2.01046943,\n",
       "        2.02119307, 2.04799485, 2.08461544, 2.11131653, 2.13500787,\n",
       "        2.14063942, 2.18639977, 2.21106285, 2.23523298, 2.25274731,\n",
       "        2.2872002 , 2.30972293, 2.33198285, 2.36656211, 2.3867629 ,\n",
       "        2.40764862, 2.43067936, 2.48037672, 2.4849247 , 2.50519993,\n",
       "        2.53112716, 2.58151496, 2.59811618, 2.6027421 , 2.63311381]),\n",
       " 8: array([0.        , 0.10204021, 0.20408122, 0.30612209, 0.40816269,\n",
       "        0.5102037 , 0.61224438, 0.71428509, 0.81632617, 0.9183669 ,\n",
       "        1.02040762, 1.12244838, 1.22448914, 1.32653025, 1.42857102,\n",
       "        1.53061178, 1.63265253, 1.73469345, 1.83673406, 1.89952896,\n",
       "        1.93765145, 1.97976747, 2.00941913, 2.03280426, 2.08142616,\n",
       "        2.11930899, 2.12774195, 2.18292596, 2.22314181, 2.23312437,\n",
       "        2.2838715 , 2.31909959, 2.34301399, 2.3842575 , 2.41561502,\n",
       "        2.45290412, 2.4840802 , 2.51268801, 2.5627941 , 2.58333664,\n",
       "        2.61031968, 2.6726843 , 2.68202505, 2.70851087, 2.78014402,\n",
       "        2.7864992 , 2.80726312, 2.87769377, 2.89638935, 2.90657853]),\n",
       " 9: array([0.        , 0.10204021, 0.20408122, 0.30612209, 0.40816269,\n",
       "        0.5102037 , 0.61224438, 0.71428509, 0.81632617, 0.9183669 ,\n",
       "        1.02040762, 1.12244838, 1.22448914, 1.32653025, 1.42857102,\n",
       "        1.53061178, 1.63265254, 1.73469338, 1.83673432, 1.91521903,\n",
       "        2.0015698 , 2.01346693, 2.10753526, 2.11169849, 2.20995898,\n",
       "        2.21742552, 2.30820284, 2.32339101, 2.40644613, 2.42935635,\n",
       "        2.50468848, 2.53532179, 2.60293007, 2.64128728, 2.70117101,\n",
       "        2.74725285, 2.79941136, 2.85321808, 2.89765063, 2.95918375,\n",
       "        2.99588967, 3.065149  , 3.09412871, 3.17111422, 3.19236724,\n",
       "        3.27707977, 3.2906054 , 3.38304509, 3.38884325, 3.48708058]),\n",
       " 10: array([0.        , 0.10204021, 0.20408122, 0.30612209, 0.40816269,\n",
       "        0.5102037 , 0.61224438, 0.71428509, 0.81632617, 0.9183669 ,\n",
       "        1.02040762, 1.12244838, 1.22448914, 1.32653025, 1.42857102,\n",
       "        1.53061178, 1.63265254, 1.7346933 , 1.83673408, 1.93877487,\n",
       "        2.04081565, 2.14285643, 2.24489758, 2.34693836, 2.44897915,\n",
       "        2.55101993, 2.65306072, 2.7551015 , 2.85714228, 2.95918307,\n",
       "        3.06122386, 3.16326466, 3.26530545, 3.36734625, 3.46938704,\n",
       "        3.57142784, 3.67346863, 3.77550943, 3.87755062, 3.97959141,\n",
       "        4.08163221, 4.18367301, 4.2857138 , 4.3877546 , 4.4897954 ,\n",
       "        4.59183619, 4.69387699, 4.79591779, 4.89795858, 4.99999938])}"
      ]
     },
     "execution_count": 55,
     "metadata": {},
     "output_type": "execute_result"
    }
   ],
   "source": [
    "Cstar"
   ]
  },
  {
   "cell_type": "code",
   "execution_count": 309,
   "metadata": {},
   "outputs": [],
   "source": [
    "test = interpolate.interp1d(par.grid_M, Cstar[1], kind='linear', fill_value = \"extrapolate\")"
   ]
  },
  {
   "cell_type": "code",
   "execution_count": 56,
   "metadata": {},
   "outputs": [
    {
     "name": "stdout",
     "output_type": "stream",
     "text": [
      "1\n",
      "[1.4999995 1.4999995]\n",
      "2\n",
      "[0.95739832 1.17855719]\n",
      "3\n",
      "[1.34481388 1.3052218 ]\n",
      "4\n",
      "[0.93018378 1.14696762]\n",
      "5\n",
      "[1.12159544 1.05923358]\n",
      "6\n",
      "[0.95396652 1.21009394]\n",
      "7\n",
      "[0.71324862 0.93333759]\n",
      "8\n",
      "[1.00338682 0.90212999]\n",
      "9\n",
      "[1.05011727 0.96284527]\n"
     ]
    }
   ],
   "source": [
    "np.random.seed(2019)\n",
    "\n",
    "simN =  2 # Number of households\n",
    "M_ini = par.M # Must be same initial as the model trained on\n",
    "\n",
    "# Allocate \n",
    "simM = M_ini * np.ones((simN,par.T))\n",
    "simC = np.ones((simN,par.T))\n",
    "\n",
    "for t in range(1,par.T):\n",
    "    print(t)\n",
    "    Cstar_interp = interpolate.interp1d(par.grid_M, Cstar[t], kind='linear', fill_value = \"extrapolate\")\n",
    "    print(Cstar_interp(simM[:,t]))\n",
    "    simC[:,t] = Cstar_interp(simM[:,t])\n",
    "    \n",
    "    if t < par.T-1:\n",
    "        A = simM[:,t] - simC[:,t]\n",
    "        Y = np.exp(np.random.normal(par.mu,par.sigma_zeta,simN) * par.sigma_zeta * x[i])\n",
    "        simM[:,t+1] = par.R * A + Y\n"
   ]
  },
  {
   "cell_type": "code",
   "execution_count": null,
   "metadata": {},
   "outputs": [],
   "source": []
  },
  {
   "cell_type": "markdown",
   "metadata": {},
   "source": [
    "# Exercise 6: Infinite Horizon"
   ]
  },
  {
   "cell_type": "markdown",
   "metadata": {},
   "source": [
    "## 6.1"
   ]
  }
 ],
 "metadata": {
  "kernelspec": {
   "display_name": "Python 3",
   "language": "python",
   "name": "python3"
  },
  "language_info": {
   "codemirror_mode": {
    "name": "ipython",
    "version": 3
   },
   "file_extension": ".py",
   "mimetype": "text/x-python",
   "name": "python",
   "nbconvert_exporter": "python",
   "pygments_lexer": "ipython3",
   "version": "3.5.4"
  }
 },
 "nbformat": 4,
 "nbformat_minor": 2
}
